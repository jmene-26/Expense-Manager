{
 "cells": [
  {
   "cell_type": "code",
   "execution_count": null,
   "metadata": {},
   "outputs": [],
   "source": [
    "import os\n",
    "import json\n",
    "\n",
    "class ExpenseManager:\n",
    "    def __init__(self, file_name=\"expenses.json\"):\n",
    "        \"\"\"Initializes the manager and loads expenses from a file.\"\"\"\n",
    "        self.file_name = file_name\n",
    "        self.expenses = self._load_expenses()\n",
    "\n",
    "    def _load_expenses(self):\n",
    "        \"\"\"Loads expenses from the file.\"\"\"\n",
    "        if os.path.exists(self.file_name):\n",
    "            with open(self.file_name, 'r') as file:\n",
    "                return json.load(file)\n",
    "        return []\n",
    "\n",
    "    def save_expenses(self):\n",
    "        \"\"\"Saves expenses to the file.\"\"\"\n",
    "        with open(self.file_name, 'w') as file:\n",
    "            json.dump(self.expenses, file, indent=4)\n",
    "\n",
    "    def add_expense(self, date, category, description, amount):\n",
    "        \"\"\"Adds a new expense to the list and saves it.\"\"\"\n",
    "        expense = {\n",
    "            \"date\": date,\n",
    "            \"category\": category,\n",
    "            \"description\": description,\n",
    "            \"amount\": float(amount)\n",
    "        }\n",
    "        self.expenses.append(expense)\n",
    "        print(f\"Added expense: {description} for ${amount} on {date} in category '{category}'.\")\n",
    "        self.save_expenses()\n",
    "\n",
    "    def view_expenses(self):\n",
    "        \"\"\"Displays all expenses in a table-like format.\"\"\"\n",
    "        print(\"\\nExpenses:\")\n",
    "        print(f\"{'Date':<15} {'Category':<15} {'Description':<25} {'Amount':<10}\")\n",
    "        print(\"-\" * 65)\n",
    "        for expense in self.expenses:\n",
    "            print(f\"{expense['date']:<15} {expense['category']:<15} {expense['description']:<25} ${expense['amount']:<10.2f}\")"
   ]
  }
 ],
 "metadata": {
  "language_info": {
   "name": "python"
  }
 },
 "nbformat": 4,
 "nbformat_minor": 2
}
